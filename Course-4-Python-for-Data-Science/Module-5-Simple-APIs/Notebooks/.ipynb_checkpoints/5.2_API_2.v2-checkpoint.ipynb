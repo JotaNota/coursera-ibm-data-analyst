{
 "cells": [
  {
   "cell_type": "markdown",
   "metadata": {},
   "source": [
    "## 📘 This is a Coursera Lab Called:  \n",
    "\n",
    "> ## **Coursera Lab: Hands-On Lab** - *API Example*  \n",
    "> ### **Course**: *Python for Data Science, AI & Development* | **Module: REST APIs, Webscraping, and working with files 5**\n",
    "\n",
    "---\n",
    "\n",
    "## ✏️ Edits Made  \n",
    "\n",
    "1. **🔹 Eliminated Some Cells**  \n",
    "   Removed unnecessary cells to streamline the content.  \n",
    "\n",
    "2. **🔹 Expanded Code Comments**  \n",
    "   Enhanced code comments using `#` for better clarity.  \n",
    "\n",
    "3. **🔹 Added Additional Explanations**  \n",
    "   Included markdown cells with detailed explanations for each line of code, labeled as:  \n",
    "\n",
    "   > #### **\"Code Breakdown\"**  \n",
    "\n",
    "---\n"
   ]
  },
  {
   "cell_type": "markdown",
   "metadata": {},
   "source": [
    "<center>\n",
    "    <img src=\"https://cf-courses-data.s3.us.cloud-object-storage.appdomain.cloud/assets/logos/SN_web_lightmode.png\" width=\"300\" alt=\"cognitiveclass.ai logo\">\n",
    "</center>\n",
    "\n",
    "# Hands-on Lab: API Examples\n",
    "## Random User and Fruityvice API Examples\n",
    "\n",
    "## Objectives\n",
    "\n",
    "*   Load and use RandomUser API, using `RandomUser()` Python library\n",
    "*   Load and use Fruityvice API, using `requests` Python library\n",
    "*   Load and use Open-Joke-API, using `requests` Python library\n",
    "\n"
   ]
  },
  {
   "cell_type": "markdown",
   "metadata": {},
   "source": [
    "### The advantages of using APIs:\n",
    " *   **Automation**. Workflows can be easily updated to become faster and more productive.\n",
    " *   **Efficiency**. It allows to use the capabilities of one of the already developed APIs than to try to \n",
    "     independently implement some functionality from scratch.\n",
    " \n",
    "### The disadvantage of using APIs:\n",
    " *   **Security**. If the API is poorly integrated, it means it will be vulnerable to attacks.\n",
    "\n",
    "### Applications Used in This Notebook\r\n",
    "\r\n",
    "#### Random User Generator\r",
    "- RandomUser is an open-source, free API that provides randomly generated users to be used as placeholders for testing purposes.\n",
    "text.\r\n",
    "- The API can return multiple results and specify generated user details such as gender, email, image, username, address, title, first and last name, an\n",
    "- More information on [RandomUser](https://randomuser.me/documentation#intro) can be found here.\n",
    "dd her#e.\r\n",
    "\r\n",
    "### Frui\n",
    "t- The Fruityvice API is a web service that provides data for all kinds of fruit!\n",
    "d"
   ]
  },
  {
   "cell_type": "markdown",
   "metadata": {},
   "source": [
    "## Example 1: RandomUser API\n",
    "- Bellow are Get Methods parameters that we can generate. \n",
    "- For more information on the parameters [documentation](https://randomuser.me/documentation).\n"
   ]
  },
  {
   "cell_type": "markdown",
   "metadata": {},
   "source": [
    "### RandomUser Get Methods - #Info\r\n",
    "\r\n",
    "- **`get_cell()`**:  \r\n",
    "  Returns the cell phone number of the generated user.\r\n",
    "\r\n",
    "- **`get_city()`**:  \r\n",
    "  Returns the city name where the user resides.\r\n",
    "\r\n",
    "- **`get_dob()`**:  \r\n",
    "  Returns the date of birth of the user.\r\n",
    "\r\n",
    "- **`get_email()`**:  \r\n",
    "  Returns the email address of the user.\r\n",
    "\r\n",
    "- **`get_first_name()`**:  \r\n",
    "  Returns the first name of the user.\r\n",
    "\r\n",
    "- **`get_full_name()`**:  \r\n",
    "  Combines and returns the user's full name (first + last name).\r\n",
    "\r\n",
    "- **`get_gender()`**:  \r\n",
    "  Returns the user's gender (e.g., \"male\" or \"female\").\r\n",
    "\r\n",
    "- **`get_id()`**:  \r\n",
    "  Returns an object or value representing the user's ID information.\r\n",
    "\r\n",
    "- **`get_id_number()`**:  \r\n",
    "  Returns the ID number (e.g., a national identification number) of the user.\r\n",
    "\r\n",
    "- **`get_id_type()`**:  \r\n",
    "  Returns the type of ID used (e.g., \"SSN,\" \"passport\").\r\n",
    "\r\n",
    "- **`get_info()`**:  \r\n",
    "  Returns general metadata or information about the RandomUser data.\r\n",
    "\r\n",
    "- **`get_last_name()`**:  \r\n",
    "  Returns the last name of the user.\r\n",
    "\r\n",
    "- **`get_login_md5()`**:  \r\n",
    "  Returns the MD5 hash of the user's login password.\r\n",
    "\r\n",
    "- **`get_login_salt()`**:  \r\n",
    "  Returns the salt value used for hashing the user's login password.\r\n",
    "\r\n",
    "- **`get_login_sha1()`**:  \r\n",
    "  Returns the SHA-1 hash of the user's login password.\r\n",
    "\r\n",
    "- **`get_login_sha256()`**:  \r\n",
    "  Returns the SHA-256 hash of the user's login password.\r\n",
    "\r\n",
    "- **`get_nat()`**:  \r\n",
    "  Returns the nationality code of the user (e.g., \"US,\" \"GB\").\r\n",
    "\r\n",
    "- **`get_password()`**:  \r\n",
    "  Returns the raw password generated for the user.\r\n",
    "\r\n",
    "- **`get_phone()`**:  \r\n",
    "  Returns the user's landline phone number.\r\n",
    "\r\n",
    "- **`get_picture()`**:  \r\n",
    "  Returns a URL to the user's profile picture.\r\n",
    "\r\n",
    "- **`get_postcode()`**:  \r\n",
    "  Returns the postal code (or ZIP code) of the user's address.\r\n",
    "\r\n",
    "- **`get_registered()`**:  \r\n",
    "  Returns the date and details of the user's registration.\r\n",
    "\r\n",
    "- **`get_state()`**:  \r\n",
    "  Returns the state or province where the user lives.\r\n",
    "\r\n",
    "- **`get_street()`**:  \r\n",
    "  Returns the street address of the user.\r\n",
    "\r\n",
    "- **`get_username()`**:  \r\n",
    "  Returns the generated username for the user.\r\n",
    "\r\n",
    "- **`get_zipcode()`**:  \r\n",
    "  Returns the ZIP code of the user (same as `get_postcode()`).\r\n"
   ]
  },
  {
   "cell_type": "markdown",
   "metadata": {},
   "source": [
    "To start using the API you can install the `randomuser` library running the `pip install` command.\n"
   ]
  },
  {
   "cell_type": "code",
   "execution_count": 37,
   "metadata": {},
   "outputs": [
    {
     "name": "stdout",
     "output_type": "stream",
     "text": [
      "Requirement already satisfied: randomuser in c:\\users\\juan diaz\\anaconda3\\lib\\site-packages (1.6)\n"
     ]
    }
   ],
   "source": [
    "!pip install randomuser"
   ]
  },
  {
   "cell_type": "markdown",
   "metadata": {},
   "source": [
    "Then, we will load the necessary libraries.\n"
   ]
  },
  {
   "cell_type": "code",
   "execution_count": 39,
   "metadata": {},
   "outputs": [],
   "source": [
    "from randomuser import RandomUser\n",
    "import pandas as pd"
   ]
  },
  {
   "cell_type": "markdown",
   "metadata": {},
   "source": [
    "First, we will create a random user object, r.\n"
   ]
  },
  {
   "cell_type": "code",
   "execution_count": 42,
   "metadata": {},
   "outputs": [],
   "source": [
    "r = RandomUser()"
   ]
  },
  {
   "cell_type": "markdown",
   "metadata": {},
   "source": [
    "Then, using `generate_users()` function, we get a list of random 10 users.\n"
   ]
  },
  {
   "cell_type": "code",
   "execution_count": 44,
   "metadata": {},
   "outputs": [],
   "source": [
    "some_list = r.generate_users(10)"
   ]
  },
  {
   "cell_type": "code",
   "execution_count": 48,
   "metadata": {},
   "outputs": [
    {
     "data": {
      "text/plain": [
       "[<randomuser.RandomUser at 0x17e284c5370>,\n",
       " <randomuser.RandomUser at 0x17e284c42c0>,\n",
       " <randomuser.RandomUser at 0x17e284c4350>,\n",
       " <randomuser.RandomUser at 0x17e284c58b0>,\n",
       " <randomuser.RandomUser at 0x17e284c4ec0>,\n",
       " <randomuser.RandomUser at 0x17e284c40b0>,\n",
       " <randomuser.RandomUser at 0x17e284c5ac0>,\n",
       " <randomuser.RandomUser at 0x17e284c62d0>,\n",
       " <randomuser.RandomUser at 0x17e284c6300>,\n",
       " <randomuser.RandomUser at 0x17e284c6390>]"
      ]
     },
     "execution_count": 48,
     "metadata": {},
     "output_type": "execute_result"
    }
   ],
   "source": [
    "some_list"
   ]
  },
  {
   "cell_type": "markdown",
   "metadata": {},
   "source": [
    "The **\"Get Methods\"** functions mentioned at the beginning of this notebook, can generate the required parameters to construct a dataset. For example, to get full name, we call `get_full_name()` function.\n"
   ]
  },
  {
   "cell_type": "code",
   "execution_count": 51,
   "metadata": {},
   "outputs": [],
   "source": [
    "name = r.get_full_name()"
   ]
  },
  {
   "cell_type": "markdown",
   "metadata": {},
   "source": [
    "Let's say we only need 10 users with full names and their email addresses. We can write a \"for-loop\" to print these 10 users.\n"
   ]
  },
  {
   "cell_type": "code",
   "execution_count": 54,
   "metadata": {},
   "outputs": [
    {
     "name": "stdout",
     "output_type": "stream",
     "text": [
      "Natalia Arias   natalia.arias@example.com\n",
      "Lewis Hayes   lewis.hayes@example.com\n",
      "Sara Pedersen   sara.pedersen@example.com\n",
      "Fatih Kaplangı   fatih.kaplangi@example.com\n",
      "Mato Straßer   mato.strasser@example.com\n",
      "Hans-Detlef Teuber   hans-detlef.teuber@example.com\n",
      "Rosario Michel   rosario.michel@example.com\n",
      "Viola Buraas   viola.buraas@example.com\n",
      "Kuzey Akman   kuzey.akman@example.com\n",
      "Malou Jensen   malou.jensen@example.com\n"
     ]
    }
   ],
   "source": [
    "for user in some_list:\n",
    "    print (user.get_full_name(),\" \",user.get_email())"
   ]
  },
  {
   "cell_type": "markdown",
   "metadata": {},
   "source": [
    "## Exercise 1\n",
    "In this Exercise, generate photos of the random 10 users.\n"
   ]
  },
  {
   "cell_type": "code",
   "execution_count": null,
   "metadata": {},
   "outputs": [],
   "source": [
    "## Write your code here\n"
   ]
  },
  {
   "cell_type": "markdown",
   "metadata": {},
   "source": [
    "<details><summary>Click here for the solution</summary>\n",
    "\n",
    "```python\n",
    "for user in some_list:\n",
    "    print (user.get_picture())\n",
    "```\n",
    "\n",
    "</details>\n"
   ]
  },
  {
   "cell_type": "markdown",
   "metadata": {},
   "source": [
    "To generate a table with information about the users, we can write a function containing all desirable parameters. For example, name, gender, city, etc. The parameters will depend on the requirements of the test to be performed. We call the Get Methods, listed at the beginning of this notebook. Then, we return pandas dataframe with the users.\n"
   ]
  },
  {
   "cell_type": "code",
   "execution_count": null,
   "metadata": {},
   "outputs": [],
   "source": [
    "def get_users():\n",
    "    users =[]\n",
    "     \n",
    "    for user in RandomUser.generate_users(10):\n",
    "        users.append({\"Name\":user.get_full_name(),\"Gender\":user.get_gender(),\"City\":user.get_city(),\"State\":user.get_state(),\"Email\":user.get_email(), \"DOB\":user.get_dob(),\"Picture\":user.get_picture()})\n",
    "      \n",
    "    return pd.DataFrame(users)     "
   ]
  },
  {
   "cell_type": "code",
   "execution_count": null,
   "metadata": {},
   "outputs": [],
   "source": [
    "get_users()"
   ]
  },
  {
   "cell_type": "code",
   "execution_count": null,
   "metadata": {},
   "outputs": [],
   "source": [
    "df1 = pd.DataFrame(get_users())  "
   ]
  },
  {
   "cell_type": "markdown",
   "metadata": {},
   "source": [
    "Now we have a *pandas* dataframe that can be used for any testing purposes that the tester might have.\n"
   ]
  },
  {
   "cell_type": "markdown",
   "metadata": {},
   "source": [
    "## Example 2: Fruityvice API\n",
    "\n",
    "Another, more common way to use APIs, is through `requests` library. The next lab, Requests and HTTP, will contain more information about requests.\n",
    "\n",
    "We will start by importing all required libraries.\n"
   ]
  },
  {
   "cell_type": "code",
   "execution_count": null,
   "metadata": {},
   "outputs": [],
   "source": [
    "import requests\n",
    "import json"
   ]
  },
  {
   "cell_type": "markdown",
   "metadata": {},
   "source": [
    "We will obtain the [fruityvice](https://www.fruityvice.com) API data using `requests.get(\"url\")` function. The data is in a json format.\n"
   ]
  },
  {
   "cell_type": "code",
   "execution_count": null,
   "metadata": {},
   "outputs": [],
   "source": [
    "data = requests.get(\"https://fruityvice.com/api/fruit/all\")"
   ]
  },
  {
   "cell_type": "markdown",
   "metadata": {},
   "source": [
    "We will retrieve results using `json.loads()` function.\n"
   ]
  },
  {
   "cell_type": "code",
   "execution_count": null,
   "metadata": {},
   "outputs": [],
   "source": [
    "results = json.loads(data.text)"
   ]
  },
  {
   "cell_type": "markdown",
   "metadata": {},
   "source": [
    "We will convert our json data into *pandas* data frame. \n"
   ]
  },
  {
   "cell_type": "code",
   "execution_count": null,
   "metadata": {},
   "outputs": [],
   "source": [
    "pd.DataFrame(results)"
   ]
  },
  {
   "cell_type": "markdown",
   "metadata": {},
   "source": [
    "The result is in a nested json format. The 'nutrition' column contains multiple subcolumns, so the data needs to be 'flattened' or normalized.\n"
   ]
  },
  {
   "cell_type": "code",
   "execution_count": null,
   "metadata": {},
   "outputs": [],
   "source": [
    "df2 = pd.json_normalize(results)"
   ]
  },
  {
   "cell_type": "code",
   "execution_count": null,
   "metadata": {},
   "outputs": [],
   "source": [
    "df2"
   ]
  },
  {
   "cell_type": "markdown",
   "metadata": {},
   "source": [
    "Let's see if we can extract some information from this dataframe. Perhaps, we need to know the family and genus of a cherry.\n"
   ]
  },
  {
   "cell_type": "code",
   "execution_count": null,
   "metadata": {},
   "outputs": [],
   "source": [
    "cherry = df2.loc[df2[\"name\"] == 'Cherry']\n",
    "(cherry.iloc[0]['family']) , (cherry.iloc[0]['genus'])"
   ]
  },
  {
   "cell_type": "markdown",
   "metadata": {},
   "source": [
    "## Exercise 2\n",
    "In this Exercise, find out how many calories are contained in a banana.\n"
   ]
  },
  {
   "cell_type": "code",
   "execution_count": null,
   "metadata": {},
   "outputs": [],
   "source": [
    "# Write your code here\n"
   ]
  },
  {
   "cell_type": "markdown",
   "metadata": {},
   "source": [
    "<details><summary>Click here for the solution</summary>\n",
    "\n",
    "```python\n",
    "cal_banana = df2.loc[df2[\"name\"] == 'Banana']\n",
    "cal_banana.iloc[0]['nutritions.calories']\n",
    "```\n",
    "\n",
    "</details>\n"
   ]
  },
  {
   "cell_type": "markdown",
   "metadata": {},
   "source": [
    "## Exercise 3\n",
    "\n",
    "This [page](https://mixedanalytics.com/blog/list-actually-free-open-no-auth-needed-apis/) contains a list of free public APIs for you to practice. Let us deal with the following example.\n",
    "\n",
    "#### Official Joke API \n",
    "This API returns random jokes from a database. The following URL can be used to retrieve 10 random jokes.\n",
    "\n",
    "https://official-joke-api.appspot.com/jokes/ten\n",
    "\n",
    "1. Using `requests.get(\"url\")` function, load the data from the URL.\n"
   ]
  },
  {
   "cell_type": "code",
   "execution_count": null,
   "metadata": {},
   "outputs": [],
   "source": [
    "# Write your code here\n"
   ]
  },
  {
   "cell_type": "markdown",
   "metadata": {},
   "source": [
    "<details><summary>Click here for the solution</summary>\n",
    "\n",
    "```python\n",
    "data2 = requests.get(\"https://official-joke-api.appspot.com/jokes/ten\")\n",
    "```\n",
    "\n",
    "</details>\n"
   ]
  },
  {
   "cell_type": "markdown",
   "metadata": {},
   "source": [
    "2. Retrieve results using `json.loads()` function.\n"
   ]
  },
  {
   "cell_type": "code",
   "execution_count": null,
   "metadata": {},
   "outputs": [],
   "source": [
    "# Write your code here\n"
   ]
  },
  {
   "cell_type": "markdown",
   "metadata": {},
   "source": [
    "<details><summary>Click here for the solution</summary>\n",
    "\n",
    "```python\n",
    "results2 = json.loads(data2.text)\n",
    "```\n",
    "\n",
    "</details>\n"
   ]
  },
  {
   "cell_type": "markdown",
   "metadata": {},
   "source": [
    "3. Convert json data into *pandas* data frame. Drop the type and id columns.\n"
   ]
  },
  {
   "cell_type": "code",
   "execution_count": null,
   "metadata": {},
   "outputs": [],
   "source": [
    "# Write your code here\n"
   ]
  },
  {
   "cell_type": "markdown",
   "metadata": {},
   "source": [
    "<details><summary>Click here for the solution</summary>\n",
    "\n",
    "```python\n",
    "df3 = pd.DataFrame(results2)\n",
    "df3.drop(columns=[\"type\",\"id\"],inplace=True)\n",
    "df3\n",
    "```\n",
    "\n",
    "</details>\n"
   ]
  },
  {
   "cell_type": "markdown",
   "metadata": {},
   "source": [
    "# Congratulations! - You have completed the lab\n"
   ]
  },
  {
   "cell_type": "markdown",
   "metadata": {},
   "source": [
    "## Author\n",
    "<a href=\"https://www.linkedin.com/in/svitlana-kramar\" target=\"_blank\">Svitlana Kramar</a>\n",
    "\n",
    "Svitlana is a master’s degree Data Science and Analytics student at University of Calgary, who enjoys travelling, learning new languages and cultures and loves spreading her passion for Data Science.\n",
    "\n",
    "## Additional Contributor\n",
    "<a href=\"https://www.linkedin.com/in/abhishek-gagneja-23051987/\" target=\"_blank\">Abhishek Gagneja</a>\n"
   ]
  },
  {
   "cell_type": "markdown",
   "metadata": {},
   "source": [
    "Copyright © 2023 IBM Corporation. All rights reserved.\n"
   ]
  }
 ],
 "metadata": {
  "kernelspec": {
   "display_name": "Python 3 (ipykernel)",
   "language": "python",
   "name": "python3"
  },
  "language_info": {
   "codemirror_mode": {
    "name": "ipython",
    "version": 3
   },
   "file_extension": ".py",
   "mimetype": "text/x-python",
   "name": "python",
   "nbconvert_exporter": "python",
   "pygments_lexer": "ipython3",
   "version": "3.12.4"
  }
 },
 "nbformat": 4,
 "nbformat_minor": 4
}
